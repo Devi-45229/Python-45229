{
 "cells": [
  {
   "cell_type": "markdown",
   "id": "d335da55",
   "metadata": {},
   "source": [
    "# Answer 1"
   ]
  },
  {
   "cell_type": "code",
   "execution_count": 1,
   "id": "4cb1136b",
   "metadata": {},
   "outputs": [
    {
     "name": "stdout",
     "output_type": "stream",
     "text": [
      "Please enter your mark(0-100) 54\n",
      "Your Grade is C\n"
     ]
    }
   ],
   "source": [
    "mark = int(input(\"Please enter your mark(0-100) \"))\n",
    "if(mark<25):\n",
    "    print(\"Your Grade is F\")\n",
    "elif(mark>=25 and mark<45):\n",
    "    print(\"Your Grade is E\")\n",
    "elif(mark>=45 and mark<50):\n",
    "    print(\"Your Grade is D\")\n",
    "elif(mark>=50 and mark<60):\n",
    "    print(\"Your Grade is C\")\n",
    "elif(mark>=60 and mark<80):\n",
    "    print(\"Your Grade is B\")\n",
    "elif(mark>=80 and mark<100):\n",
    "    print(\"Your Grade is A\")\n",
    "else:\n",
    "    print(\"Please enter a valid mark between 0-100\")\n"
   ]
  },
  {
   "cell_type": "markdown",
   "id": "1864e73a",
   "metadata": {},
   "source": [
    "# Answer 2"
   ]
  },
  {
   "cell_type": "code",
   "execution_count": 2,
   "id": "dea3d8b0",
   "metadata": {},
   "outputs": [
    {
     "name": "stdout",
     "output_type": "stream",
     "text": [
      "['John', 'Peter', 'Meera', 'Mini', 'Krishna']\n",
      "['John', 'Krishna']\n"
     ]
    }
   ],
   "source": [
    "names = ['John','Peter','Meera','Mini','Krishna']\n",
    "new_names = []\n",
    "print(names)\n",
    "for name in names:\n",
    "    flag=0\n",
    "    for char in name:\n",
    "        if name.count(char) > 1:\n",
    "            flag=1\n",
    "    if(flag==0):\n",
    "        new_names.append(name)\n",
    "print(new_names)"
   ]
  },
  {
   "cell_type": "markdown",
   "id": "1cc45265",
   "metadata": {},
   "source": [
    "# Answer 3"
   ]
  },
  {
   "cell_type": "code",
   "execution_count": 3,
   "id": "b2f7dccd",
   "metadata": {},
   "outputs": [
    {
     "name": "stdout",
     "output_type": "stream",
     "text": [
      "Enter the length of the rectangle 7\n",
      "Enter the breadth of the rectangle 7\n",
      "The length and breadth are equal which makes a square\n"
     ]
    }
   ],
   "source": [
    "length = int(input(\"Enter the length of the rectangle \"))\n",
    "breadth = int(input(\"Enter the breadth of the rectangle \"))\n",
    "if(length==breadth):\n",
    "    print(\"The length and breadth are equal which makes a square\")\n",
    "else:\n",
    "    print(\"The length and breadth are not equal. This makes a rectangle\")"
   ]
  },
  {
   "cell_type": "markdown",
   "id": "4ea1e109",
   "metadata": {},
   "source": [
    "# Answer 4"
   ]
  },
  {
   "cell_type": "code",
   "execution_count": 9,
   "id": "d50fbee4",
   "metadata": {},
   "outputs": [
    {
     "name": "stdout",
     "output_type": "stream",
     "text": [
      "Please enter the number of classes held: 34\n",
      "Please enter the number of classes attended: 25\n",
      "The percentage of class attended is  73.52941176470588\n",
      "Sorry, you are not eligible to attend the exam.\n"
     ]
    }
   ],
   "source": [
    "cl_held = int(input(\"Please enter the number of classes held: \"))\n",
    "cl_attend = int(input(\"Please enter the number of classes attended: \"))\n",
    "percent = (cl_attend/cl_held)*100\n",
    "print(\"The percentage of class attended is \",percent)\n",
    "if (percent>=75):\n",
    "    print(\"You are eligible to attend the exam.\")\n",
    "else:\n",
    "    print(\"Sorry, you are not eligible to attend the exam.\")"
   ]
  },
  {
   "cell_type": "markdown",
   "id": "010b96b2",
   "metadata": {},
   "source": [
    "# Answer 5"
   ]
  },
  {
   "cell_type": "code",
   "execution_count": 6,
   "id": "ac85ba8d",
   "metadata": {},
   "outputs": [
    {
     "name": "stdout",
     "output_type": "stream",
     "text": [
      "Please enter the length of the list 5\n",
      "Enter items in list 2\n",
      "Enter items in list 6\n",
      "Enter items in list 3\n",
      "Enter items in list 1\n",
      "Enter items in list 5\n",
      "List1 =  [2, 6, 3, 1, 5]\n",
      "Sum =  17\n",
      "Even_List =  [2, 6]\n",
      "Odd_List =  [3, 1, 5]\n"
     ]
    }
   ],
   "source": [
    "len_l = int(input(\"Please enter the length of the list \"))\n",
    "\n",
    "l = []\n",
    "even_l = []\n",
    "odd_l = []\n",
    "\n",
    "sum = 0\n",
    "\n",
    "for i in range(len_l):\n",
    "    x = int(input(\"Enter items in list \"))\n",
    "    sum = sum+x\n",
    "    l.append(x)\n",
    "    \n",
    "    if x%2==0:\n",
    "        even_l.append(x)\n",
    "    else:\n",
    "        odd_l.append(x)\n",
    "        \n",
    "print(\"List1 = \",l)\n",
    "print(\"Sum = \",sum)\n",
    "print(\"Even_List = \",even_l)\n",
    "print(\"Odd_List = \",odd_l)"
   ]
  },
  {
   "cell_type": "markdown",
   "id": "cc3d7028",
   "metadata": {},
   "source": [
    "# Answer 6"
   ]
  },
  {
   "cell_type": "code",
   "execution_count": 12,
   "id": "4f59bfc4",
   "metadata": {},
   "outputs": [
    {
     "name": "stdout",
     "output_type": "stream",
     "text": [
      "BOT: What do you want me to call you?\n",
      "robo\n"
     ]
    }
   ],
   "source": [
    "print(\"BOT: What do you want me to call you?\")\n",
    "user_name = input()\n"
   ]
  },
  {
   "cell_type": "markdown",
   "id": "09694031",
   "metadata": {},
   "source": [
    "# Answer 7"
   ]
  },
  {
   "cell_type": "code",
   "execution_count": 3,
   "id": "2a3a643f",
   "metadata": {},
   "outputs": [
    {
     "name": "stdout",
     "output_type": "stream",
     "text": [
      "The Quadratic Equation is in the form ax^2+bx+c \n",
      "Enter the value of a 1\n",
      "Enter the value of b 10\n",
      "Enter the value of c -24\n",
      "Roots are Real and Different \n",
      "2.0\n",
      "-12.0\n"
     ]
    }
   ],
   "source": [
    "import math\n",
    "print(\"The Quadratic Equation is in the form ax^2+bx+c \")\n",
    "a = float(input(\"Enter the value of a \"))\n",
    "b = float(input(\"Enter the value of b \"))\n",
    "c = float(input(\"Enter the value of c \"))\n",
    "    \n",
    "if a == 0: \n",
    "    print(\"Input correct Quadratic Equation\")   \n",
    "else:\n",
    "    D = b*b - 4*a*c     \n",
    "    sqrt_D = math.sqrt(abs(D)) \n",
    "\n",
    "    if D > 0: \n",
    "        print(\"Roots are Real and Different \") \n",
    "        print((-b + sqrt_D)/(2*a)) \n",
    "        print((-b - sqrt_D)/(2*a)) \n",
    "    elif D == 0: \n",
    "        print(\"Roots are Real and Same Roots\")\n",
    "        print(-b / (2*a))  \n",
    "    else:\n",
    "        print(\"Complex Roots\") \n",
    "        print(- b / (2*a), \" + i\", sqrt_D) \n",
    "        print(- b / (2*a), \" - i\", sqrt_D) "
   ]
  },
  {
   "cell_type": "markdown",
   "id": "b04170f0",
   "metadata": {},
   "source": [
    "# Answer 8"
   ]
  },
  {
   "cell_type": "code",
   "execution_count": 18,
   "id": "11308e7e",
   "metadata": {},
   "outputs": [
    {
     "name": "stdout",
     "output_type": "stream",
     "text": [
      "Current Number 1 Previous Number 0 Sum 1 \n",
      "Current Number 2 Previous Number 1 Sum 3 \n",
      "Current Number 3 Previous Number 2 Sum 5 \n",
      "Current Number 4 Previous Number 3 Sum 7 \n",
      "Current Number 5 Previous Number 4 Sum 9 \n",
      "Current Number 6 Previous Number 5 Sum 11 \n",
      "Current Number 7 Previous Number 6 Sum 13 \n",
      "Current Number 8 Previous Number 7 Sum 15 \n",
      "Current Number 9 Previous Number 8 Sum 17 \n",
      "Current Number 10 Previous Number 9 Sum 19 \n"
     ]
    }
   ],
   "source": [
    "l = [1,2,3,4,5,6,7,8,9,10]\n",
    "for n in range(len(l)):\n",
    "    print(\"Current Number {} Previous Number {} Sum {} \".format(l[n],n,l[n]+n))"
   ]
  },
  {
   "cell_type": "markdown",
   "id": "f7b134a1",
   "metadata": {},
   "source": [
    "# Answer 9"
   ]
  },
  {
   "cell_type": "code",
   "execution_count": 6,
   "id": "0a656db4",
   "metadata": {},
   "outputs": [
    {
     "name": "stdout",
     "output_type": "stream",
     "text": [
      "Prime Numbers in a given range\n",
      "Please enter the starting value : 1\n",
      "Please enter the ending value : 100\n",
      " 2   3   5   7   11   13   17   19   23   29   31   37   41   43   47   53   59   61   67   71   73   79   83   89   97  "
     ]
    }
   ],
   "source": [
    "print(\"Prime Numbers in a given range\")\n",
    "s_value = int(input(\"Please enter the starting value : \"))\n",
    "e_value = int(input(\"Please enter the ending value : \"))\n",
    "\n",
    "for n in range (s_value,e_value+1):\n",
    "    count = 0\n",
    "    for i in range(2, (n//2 + 1)):\n",
    "        if(n % i == 0):\n",
    "            count = count + 1\n",
    "            break\n",
    "\n",
    "    if (count == 0 and n != 1):\n",
    "        print(\" %d\" %n, end = '  ')"
   ]
  },
  {
   "cell_type": "markdown",
   "id": "b6456356",
   "metadata": {},
   "source": [
    "# Answer 10"
   ]
  },
  {
   "cell_type": "code",
   "execution_count": 11,
   "id": "eb60c161",
   "metadata": {},
   "outputs": [
    {
     "name": "stdout",
     "output_type": "stream",
     "text": [
      "Fibonacci Series with in range\n",
      "Please enter the lower limit 4\n",
      "Please enter the upper limit 35\n",
      "\n",
      "Fibonacci Series is  [5, 8, 13, 21, 34]\n",
      "Count of Fibonacci Numbers is 5\n"
     ]
    }
   ],
   "source": [
    "print(\"Fibonacci Series with in range\")\n",
    "lower_l = int(input(\"Please enter the lower limit \"))\n",
    "upper_l = int(input(\"Please enter the upper limit \"))\n",
    "x, y = 0, 1\n",
    "c = 0\n",
    "i = 0\n",
    "l = [0,1]\n",
    "l_new = []\n",
    "limit = upper_l*2\n",
    "while (i < limit):\n",
    "    next_value = x + y\n",
    "    x = y\n",
    "    y = next_value\n",
    "    l.append(next_value)\n",
    "    i = i+1\n",
    "for n in range(limit):\n",
    "    if l[n]>=lower_l and l[n]<=upper_l:\n",
    "        c=c+1\n",
    "        l_new.append(l[n])\n",
    "        #print(l[n],end=' ')\n",
    "print(\"\\nFibonacci Series is \",l_new)\n",
    "print(\"Count of Fibonacci Numbers is\",c)\n"
   ]
  },
  {
   "cell_type": "code",
   "execution_count": null,
   "id": "e0c6459c",
   "metadata": {},
   "outputs": [],
   "source": []
  }
 ],
 "metadata": {
  "kernelspec": {
   "display_name": "Python 3 (ipykernel)",
   "language": "python",
   "name": "python3"
  },
  "language_info": {
   "codemirror_mode": {
    "name": "ipython",
    "version": 3
   },
   "file_extension": ".py",
   "mimetype": "text/x-python",
   "name": "python",
   "nbconvert_exporter": "python",
   "pygments_lexer": "ipython3",
   "version": "3.9.13"
  }
 },
 "nbformat": 4,
 "nbformat_minor": 5
}
