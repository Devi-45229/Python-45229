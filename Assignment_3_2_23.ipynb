{
 "cells": [
  {
   "cell_type": "markdown",
   "id": "162acfb4",
   "metadata": {},
   "source": [
    "# Answer 1"
   ]
  },
  {
   "cell_type": "code",
   "execution_count": 10,
   "id": "e07bb2f3",
   "metadata": {},
   "outputs": [
    {
     "name": "stdout",
     "output_type": "stream",
     "text": [
      "Enter the name: Anisha\n",
      "Enter the roll number: 21\n",
      "Enter the mark: 78\n",
      "\n",
      "\n",
      "Name:  Anisha\n",
      "Roll No:  21\n",
      "Mark:  78\n"
     ]
    }
   ],
   "source": [
    "name = input(\"Enter the name: \")\n",
    "rollno = input(\"Enter the roll number: \")\n",
    "mark = input(\"Enter the mark: \")\n",
    "print(\"\\n\")\n",
    "print(\"Name: \",name)\n",
    "print(\"Roll No: \",rollno)\n",
    "print(\"Mark: \",mark)"
   ]
  },
  {
   "cell_type": "markdown",
   "id": "96d22c0b",
   "metadata": {},
   "source": [
    "# Answer 2"
   ]
  },
  {
   "cell_type": "code",
   "execution_count": 14,
   "id": "9917c0a5",
   "metadata": {},
   "outputs": [
    {
     "name": "stdout",
     "output_type": "stream",
     "text": [
      "Temperature in Fahrenheit = 55\n",
      "Temperature in Celsius =  12\n"
     ]
    }
   ],
   "source": [
    "fahrenheit = float(input(\"Temperature in Fahrenheit = \"))\n",
    "celsius = ((fahrenheit-32)/9)*5\n",
    "print(\"Temperature in Celsius = \",int(celsius))"
   ]
  },
  {
   "cell_type": "markdown",
   "id": "7f9c4ba0",
   "metadata": {},
   "source": [
    "# Answer 3"
   ]
  },
  {
   "cell_type": "code",
   "execution_count": 1,
   "id": "5bf6c8e1",
   "metadata": {},
   "outputs": [
    {
     "name": "stdout",
     "output_type": "stream",
     "text": [
      "Enter the first number: 2\n",
      "Enter the second number: 3\n",
      "The Product of the above two numbers is  6\n"
     ]
    }
   ],
   "source": [
    "number1 = int(input(\"Enter the first number: \"))\n",
    "number2 = int(input(\"Enter the second number: \"))\n",
    "print(\"The Product of the above two numbers is \",number1*number2)"
   ]
  },
  {
   "cell_type": "markdown",
   "id": "afb88d25",
   "metadata": {},
   "source": [
    "# Answer 4"
   ]
  },
  {
   "cell_type": "code",
   "execution_count": 10,
   "id": "b5429063",
   "metadata": {},
   "outputs": [
    {
     "name": "stdout",
     "output_type": "stream",
     "text": [
      "Learn**Python**by Developing a**Website**\n"
     ]
    }
   ],
   "source": [
    "string = \"Learn Python by Developing a Website \"\n",
    "new_string = string.replace(\"n \",\"n**\")\n",
    "new_string_1 = new_string.replace(\" W\",\"**W\")\n",
    "new_string_2 = new_string_1.replace(\"e \",\"e**\")\n",
    "print(new_string_2)"
   ]
  },
  {
   "cell_type": "markdown",
   "id": "56cfc35b",
   "metadata": {},
   "source": [
    "# Answer 5"
   ]
  },
  {
   "cell_type": "code",
   "execution_count": 14,
   "id": "6b1e4622",
   "metadata": {},
   "outputs": [
    {
     "name": "stdout",
     "output_type": "stream",
     "text": [
      "Enter radius 3\n",
      "Area of the circle with radius 3.0 is 28.274333882308138\n"
     ]
    }
   ],
   "source": [
    "import math\n",
    "radius = float(input(\"Enter radius \"))\n",
    "print(\"Area of the circle with radius \"+str(radius)+\" is \"+str(math.pi*radius**2))"
   ]
  },
  {
   "cell_type": "markdown",
   "id": "e603070d",
   "metadata": {},
   "source": [
    "# Answer 6"
   ]
  },
  {
   "cell_type": "code",
   "execution_count": 17,
   "id": "f7b051a9",
   "metadata": {},
   "outputs": [
    {
     "name": "stdout",
     "output_type": "stream",
     "text": [
      "[10, 20, 30, 40, 70, 60, 50, 80]\n",
      "Enter a number to be inserted to the list 23\n",
      "Enter the position to which the number is to be inserted 2\n",
      "[10, 20, 23, 30, 40, 70, 60, 50, 80]\n"
     ]
    }
   ],
   "source": [
    "MyList = [10,20,30,40,70,60,50,80]\n",
    "print(MyList)\n",
    "no = int(input(\"Enter a number to be inserted to the list \"))\n",
    "pos =int(input(\"Enter the position to which the number is to be inserted \"))\n",
    "MyList.insert(pos,no)\n",
    "print(MyList)"
   ]
  },
  {
   "cell_type": "markdown",
   "id": "8be95e19",
   "metadata": {},
   "source": [
    "# Answer 7"
   ]
  },
  {
   "cell_type": "code",
   "execution_count": 23,
   "id": "ecea40ca",
   "metadata": {},
   "outputs": [
    {
     "name": "stdout",
     "output_type": "stream",
     "text": [
      "{'name': 'John', 'age': 5, 'salary': 8000, 'city': 'New York'}\n",
      "{'name': 'John', 'age': 5, 'salary': 8000, 'location': 'New York'}\n"
     ]
    }
   ],
   "source": [
    "sample_dict = {\"name\":\"John\",\"age\":5,\"salary\":8000,\"city\":\"New York\"}\n",
    "print(sample_dict)\n",
    "sample_dict[\"location\"] = sample_dict.pop(\"city\")\n",
    "print(sample_dict)"
   ]
  },
  {
   "cell_type": "markdown",
   "id": "a09c5a80",
   "metadata": {},
   "source": [
    "# Answer 8"
   ]
  },
  {
   "cell_type": "code",
   "execution_count": 25,
   "id": "96332bf5",
   "metadata": {},
   "outputs": [
    {
     "name": "stdout",
     "output_type": "stream",
     "text": [
      "{'emp1': {'name': 'John', 'salary': 7500}, 'emp2': {'name': 'Emma', 'salary': 8000}, 'emp3': {'name': 'Brad', 'salary': 500}}\n",
      "{'emp1': {'name': 'John', 'salary': 7500}, 'emp2': {'name': 'Emma', 'salary': 8000}, 'emp3': {'name': 'Brad', 'salary': 8500}}\n"
     ]
    }
   ],
   "source": [
    "sample_dict={'emp1':{'name':'John','salary':7500},\n",
    "             'emp2':{'name':'Emma','salary':8000},\n",
    "             'emp3':{'name':'Brad','salary':500}}\n",
    "print(sample_dict)\n",
    "sample_dict['emp3']['salary']=8500\n",
    "print(sample_dict)"
   ]
  },
  {
   "cell_type": "markdown",
   "id": "ec25351c",
   "metadata": {},
   "source": [
    "# Answer 9"
   ]
  },
  {
   "cell_type": "code",
   "execution_count": 40,
   "id": "d3781543",
   "metadata": {},
   "outputs": [
    {
     "name": "stdout",
     "output_type": "stream",
     "text": [
      "(43, 54)\n"
     ]
    }
   ],
   "source": [
    "tuple1 = (10,20,43,54,56,68)\n",
    "tuple2 = tuple1[2:4]\n",
    "print(tuple2)"
   ]
  },
  {
   "cell_type": "markdown",
   "id": "354361df",
   "metadata": {},
   "source": [
    "# Answer 10"
   ]
  },
  {
   "cell_type": "code",
   "execution_count": 41,
   "id": "918d1983",
   "metadata": {},
   "outputs": [
    {
     "name": "stdout",
     "output_type": "stream",
     "text": [
      "3\n"
     ]
    }
   ],
   "source": [
    "tuple1 = (50,10,60,70,50,83,567,50,81)\n",
    "print(tuple1.count(50))"
   ]
  },
  {
   "cell_type": "code",
   "execution_count": null,
   "id": "7ec5fec9",
   "metadata": {},
   "outputs": [],
   "source": []
  }
 ],
 "metadata": {
  "kernelspec": {
   "display_name": "Python 3 (ipykernel)",
   "language": "python",
   "name": "python3"
  },
  "language_info": {
   "codemirror_mode": {
    "name": "ipython",
    "version": 3
   },
   "file_extension": ".py",
   "mimetype": "text/x-python",
   "name": "python",
   "nbconvert_exporter": "python",
   "pygments_lexer": "ipython3",
   "version": "3.9.13"
  }
 },
 "nbformat": 4,
 "nbformat_minor": 5
}
