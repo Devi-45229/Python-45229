{
 "cells": [
  {
   "cell_type": "markdown",
   "id": "3ff90d08",
   "metadata": {},
   "source": [
    "# Answer 1"
   ]
  },
  {
   "cell_type": "code",
   "execution_count": 1,
   "id": "633b5584",
   "metadata": {},
   "outputs": [
    {
     "name": "stdout",
     "output_type": "stream",
     "text": [
      "Enter the number of elements in the list 5\n",
      "Enter element 1 : 4\n",
      "Enter element 2 : 5\n",
      "Enter element 3 : 1\n",
      "Enter element 4 : 4\n",
      "Enter element 5 : 3\n",
      "[4, 5, 1, 4, 3]\n",
      "Sum of the elements of the list is 17\n"
     ]
    }
   ],
   "source": [
    "def get_list():\n",
    "    l = []\n",
    "    n=int(input('Enter the number of elements in the list '))\n",
    "    for i in range(1,n+1):\n",
    "        x=int(input(\"Enter element \"+str(i)+\" : \"))\n",
    "        l.append(x)\n",
    "    print(l)\n",
    "    return l\n",
    "def sum_list():\n",
    "    list_1 = get_list()\n",
    "    s = 0\n",
    "    limit = len(list_1)\n",
    "    for i in range(limit):\n",
    "        s=s+list_1[i]\n",
    "    print(\"Sum of the elements of the list is \"+str(s))\n",
    "sum_list()"
   ]
  },
  {
   "cell_type": "markdown",
   "id": "22017784",
   "metadata": {},
   "source": [
    "# Answer 2"
   ]
  },
  {
   "cell_type": "code",
   "execution_count": 2,
   "id": "f9c71901",
   "metadata": {},
   "outputs": [
    {
     "name": "stdout",
     "output_type": "stream",
     "text": [
      "Enter a string Noon\n",
      "Palindrome\n"
     ]
    }
   ],
   "source": [
    "def check_palindrome(s):\n",
    "    rev_s = s[::-1]\n",
    "    #print(rev_s)\n",
    "    if s==rev_s:\n",
    "        print(\"Palindrome\")\n",
    "    else:\n",
    "        print(\"Not Palindrome\")\n",
    "s = input(\"Enter a string \")\n",
    "s = s.lower()\n",
    "check_palindrome(s)\n"
   ]
  },
  {
   "cell_type": "markdown",
   "id": "7ecb85af",
   "metadata": {},
   "source": [
    "# Answer 3"
   ]
  },
  {
   "cell_type": "code",
   "execution_count": 32,
   "id": "33fa75c1",
   "metadata": {},
   "outputs": [
    {
     "name": "stdout",
     "output_type": "stream",
     "text": [
      "Enter the value of n for Fibonacci Series : 4\n",
      "Fibonacci sequence:\n",
      "0 Fibonacci term is:  0\n",
      "1 Fibonacci term is:  1\n",
      "2 Fibonacci term is:  1\n",
      "3 Fibonacci term is:  2\n",
      "4 Fibonacci term is:  3\n"
     ]
    }
   ],
   "source": [
    "def recurFibonacci(n):\n",
    "    if n==0:\n",
    "        return 0\n",
    "    elif n==1:\n",
    "        return 1\n",
    "    return (recurFibonacci(n-1)+recurFibonacci(n-2))\n",
    "N = int(input(\"Enter the value of n for Fibonacci Series : \"))\n",
    "print(\"Fibonacci sequence:\")\n",
    "for i in range(N+1):\n",
    "    print(f\"{i} Fibonacci term is: \", recurFibonacci(i))"
   ]
  },
  {
   "cell_type": "markdown",
   "id": "e5f017b0",
   "metadata": {},
   "source": [
    "# Answer 4"
   ]
  },
  {
   "cell_type": "code",
   "execution_count": 5,
   "id": "04ec02b2",
   "metadata": {},
   "outputs": [
    {
     "name": "stdout",
     "output_type": "stream",
     "text": [
      "Enter the value of n for which the Multiplication Table has to be displayed : 4\n",
      "4 * 1 = 4\n",
      "4 * 2 = 8\n",
      "4 * 3 = 12\n",
      "4 * 4 = 16\n",
      "4 * 5 = 20\n",
      "4 * 6 = 24\n",
      "4 * 7 = 28\n",
      "4 * 8 = 32\n",
      "4 * 9 = 36\n",
      "4 * 10 = 40\n"
     ]
    }
   ],
   "source": [
    "def multiTable(n, i):\n",
    "    if (i > 10):\n",
    "        return\n",
    "    print(n,\"*\",i,\"=\",n * i)\n",
    "    return multiTable(n, i + 1)\n",
    "N = int(input(\"Enter the value of n for which the Multiplication Table has to be displayed : \"))\n",
    "multiTable(N, 1)"
   ]
  },
  {
   "cell_type": "markdown",
   "id": "8e419b67",
   "metadata": {},
   "source": [
    "# Answer 5"
   ]
  },
  {
   "cell_type": "code",
   "execution_count": 14,
   "id": "bc4b9dc3",
   "metadata": {},
   "outputs": [
    {
     "name": "stdout",
     "output_type": "stream",
     "text": [
      "Enter any string: devi sree\n",
      "Number of Vowels in the above string is  4\n",
      "Number of Consonants in the above string is  4\n"
     ]
    }
   ],
   "source": [
    "def vowelConsonant(string):\n",
    "    v=0\n",
    "    c=0\n",
    "    n=0\n",
    "    for ch in string:\n",
    "        if not ch.isalpha():\n",
    "            n+=1\n",
    "        elif ch.lower() in 'aeiou':\n",
    "            v+=1\n",
    "        else:\n",
    "            c+=1\n",
    "    print(\"Number of Vowels in the above string is \", v)\n",
    "    print(\"Number of Consonants in the above string is \", c)\n",
    "string = input('Enter any string: ')\n",
    "vowelConsonant(string)\n"
   ]
  },
  {
   "cell_type": "markdown",
   "id": "def58a00",
   "metadata": {},
   "source": [
    "# Answer 6"
   ]
  },
  {
   "cell_type": "code",
   "execution_count": 25,
   "id": "78b85269",
   "metadata": {},
   "outputs": [
    {
     "name": "stdout",
     "output_type": "stream",
     "text": [
      "Enter any string: Devi\n",
      "Please enter a string with lowercase letters\n",
      "Enter any string: Devi Sree\n",
      "Please enter a string with lowercase letters\n",
      "Enter any string: devi sree\n",
      "DEVI SREE\n"
     ]
    }
   ],
   "source": [
    "def to_upper():\n",
    "    check = 0\n",
    "    while check==0:\n",
    "        string = input('Enter any string: ')\n",
    "        check = string.islower()\n",
    "        if(check==0):\n",
    "            print(\"Please enter a string with lowercase letters\")\n",
    "    return string.upper()\n",
    "s = to_upper()\n",
    "print(s)"
   ]
  },
  {
   "cell_type": "markdown",
   "id": "9b877129",
   "metadata": {},
   "source": [
    "# Answer 7"
   ]
  },
  {
   "cell_type": "code",
   "execution_count": 27,
   "id": "a1b0a851",
   "metadata": {},
   "outputs": [
    {
     "name": "stdout",
     "output_type": "stream",
     "text": [
      "[12, 0, 23, -55, 234, 89, 0, 6, -12]\n"
     ]
    }
   ],
   "source": [
    "list_1 = [12, 0, None, 23, None, -55, 234, 89, None, 0, 6, -12]\n",
    "result_list_1 = list(filter(lambda x: (x!=None),list_1))\n",
    "print(result_list_1)"
   ]
  },
  {
   "cell_type": "markdown",
   "id": "fe4f0a0f",
   "metadata": {},
   "source": [
    "# Answer 8"
   ]
  },
  {
   "cell_type": "code",
   "execution_count": 38,
   "id": "f193451d",
   "metadata": {},
   "outputs": [
    {
     "name": "stdout",
     "output_type": "stream",
     "text": [
      "Length: 3 Width: 4\n",
      "Area : 12\n",
      "Perimeter : 14\n",
      "Height: 3\n",
      "Volume of Parallelepiped : 36\n"
     ]
    }
   ],
   "source": [
    "class Rectangle:\n",
    "    def __init__(self,l,w):\n",
    "        self.length=l\n",
    "        self.width=w\n",
    "        \n",
    "    def Area(self):\n",
    "        a=self.length*self.width\n",
    "        return a\n",
    "    \n",
    "    def Perimeter(self):\n",
    "        p=2*(self.length+self.width)\n",
    "        return p\n",
    "        \n",
    "    def display(self):\n",
    "        print(f\"Length: {self.length} Width: {self.width}\")\n",
    "        print(\"Area :\",self.Area())\n",
    "        print(\"Perimeter :\",self.Perimeter())\n",
    "        \n",
    "obj=Rectangle(3,4)\n",
    "obj.display()\n",
    "\n",
    "class Parallelepiped(Rectangle):\n",
    "    def __init__(self,l,w,h):\n",
    "        Rectangle.__init__(self,l,w)\n",
    "        self.height = h\n",
    "    def Volume(self):\n",
    "        print(f\"Height: {self.height}\")\n",
    "        print(\"Volume of Parallelepiped :\", self.Area()*self.height)\n",
    "        \n",
    "obj1=Parallelepiped(2,6,3)\n",
    "obj1.Volume()"
   ]
  },
  {
   "cell_type": "markdown",
   "id": "60339cf0",
   "metadata": {},
   "source": [
    "# Answer 9"
   ]
  },
  {
   "cell_type": "code",
   "execution_count": 40,
   "id": "9447884a",
   "metadata": {},
   "outputs": [
    {
     "name": "stdout",
     "output_type": "stream",
     "text": [
      "Please enter the amount to be Deposited: 10000\n",
      "Amount Deposited:  10000.0\n",
      "Please enter the amount to be Withdrawn: 4000\n",
      "You have Withdrawn: 4000.0\n",
      "5% bank fees is being reduced from you account. \n",
      "\n",
      "Your Current Balance is  5999.95\n",
      "Hi  Devi Sree\n",
      "\n",
      "Account Number :  2345123\n",
      "\n",
      "Your Available Balance is  5999.95\n"
     ]
    }
   ],
   "source": [
    "class BankAccount:\n",
    "    def __init__(self,acno,n):\n",
    "        self.accountNumber = acno\n",
    "        self.name = n\n",
    "        self.balance = 0\n",
    "        \n",
    "    def Deposit(self):\n",
    "        amt=float(input(\"Please enter the amount to be Deposited: \"))\n",
    "        self.balance += amt\n",
    "        print(\"Amount Deposited: \",amt)\n",
    "        \n",
    "    def Withdrawal(self):\n",
    "        amt = float(input(\"Please enter the amount to be Withdrawn: \"))\n",
    "        if self.balance>=amt:\n",
    "            self.balance-=amt\n",
    "            print(\"You have Withdrawn:\", amt)\n",
    "        else:\n",
    "            print(\"Insufficient Balance.\")\n",
    "    \n",
    "    def bankFees(self):\n",
    "        print(\"5% bank fees is being reduced from you account. \\n\")\n",
    "        self.balance =self.balance-(5/100)\n",
    "        print(\"Your Current Balance is \",self.balance)\n",
    "        \n",
    "    def display(self):\n",
    "        print(\"Hi \",self.name)\n",
    "        print(\"\\nAccount Number : \",self.accountNumber)\n",
    "        print(\"\\nYour Available Balance is \",self.balance)\n",
    "obj = BankAccount(2345123,\"Devi Sree\")\n",
    "obj.Deposit()\n",
    "obj.Withdrawal()\n",
    "obj.bankFees()\n",
    "obj.display()"
   ]
  },
  {
   "cell_type": "markdown",
   "id": "71fb5845",
   "metadata": {},
   "source": [
    "# Answer 10"
   ]
  },
  {
   "cell_type": "code",
   "execution_count": 51,
   "id": "b457de36",
   "metadata": {},
   "outputs": [
    {
     "name": "stdout",
     "output_type": "stream",
     "text": [
      "Length: 3 Width: 4\n",
      "Area : 12\n",
      "Perimeter : 14\n",
      "Height: 3\n",
      "Volume of Parallelepiped : 36\n"
     ]
    }
   ],
   "source": [
    "from rectangle_file import rectangle_file\n",
    "class parallel_piped(rectangle_file):\n",
    "    def __init__(self,l,w,h):\n",
    "        rectangle_file.__init__(self,l,w)\n",
    "        self.height = h\n",
    "    def Volume(self):\n",
    "        print(f\"Height: {self.height}\")\n",
    "        print(\"Volume of Parallelepiped :\", self.Area()*self.height)\n",
    "\n",
    "obj=rectangle_file(3,4)#Parent Class in rectangle.py\n",
    "obj.display()\n",
    "\n",
    "obj1=parallel_piped(2,6,3)#Child class from above code\n",
    "obj1.Volume()"
   ]
  },
  {
   "cell_type": "code",
   "execution_count": null,
   "id": "ab64aea5",
   "metadata": {},
   "outputs": [],
   "source": []
  }
 ],
 "metadata": {
  "kernelspec": {
   "display_name": "Python 3 (ipykernel)",
   "language": "python",
   "name": "python3"
  },
  "language_info": {
   "codemirror_mode": {
    "name": "ipython",
    "version": 3
   },
   "file_extension": ".py",
   "mimetype": "text/x-python",
   "name": "python",
   "nbconvert_exporter": "python",
   "pygments_lexer": "ipython3",
   "version": "3.9.13"
  }
 },
 "nbformat": 4,
 "nbformat_minor": 5
}
